{
  "cells": [
    {
      "cell_type": "markdown",
      "metadata": {
        "id": "view-in-github",
        "colab_type": "text"
      },
      "source": [
        "<a href=\"https://colab.research.google.com/github/schen8180/sophiac.github.io/blob/gh-pages/Sophia_Chen_Project3.ipynb\" target=\"_parent\"><img src=\"https://colab.research.google.com/assets/colab-badge.svg\" alt=\"Open In Colab\"/></a>"
      ]
    },
    {
      "cell_type": "code",
      "execution_count": 1,
      "metadata": {
        "id": "RxbbcXYtqe7r"
      },
      "outputs": [],
      "source": [
        "%matplotlib inline\n",
        "%config InlineBackend.figure_format = 'retina'\n",
        "import matplotlib as mpl\n",
        "mpl.rcParams['figure.dpi'] = 150\n",
        "import matplotlib.pyplot as plt\n",
        "import warnings\n",
        "warnings.simplefilter(action='ignore', category=FutureWarning)"
      ]
    },
    {
      "cell_type": "code",
      "execution_count": 2,
      "metadata": {
        "id": "TLCtahH1qvqf"
      },
      "outputs": [],
      "source": [
        "import numpy as np\n",
        "import pandas as pd\n",
        "from sklearn.linear_model import Lasso, Ridge, ElasticNet\n",
        "from sklearn.preprocessing import StandardScaler\n",
        "from sklearn.metrics import mean_squared_error as MSE\n",
        "from sklearn.model_selection import KFold\n",
        "from sklearn.svm import SVR"
      ]
    },
    {
      "cell_type": "code",
      "execution_count": 3,
      "metadata": {
        "colab": {
          "base_uri": "https://localhost:8080/"
        },
        "id": "kHA1Yhwyq3YN",
        "outputId": "1744e687-bad3-4ac5-c695-7e73e4497a0c"
      },
      "outputs": [
        {
          "output_type": "stream",
          "name": "stdout",
          "text": [
            "Looking in indexes: https://pypi.org/simple, https://us-python.pkg.dev/colab-wheels/public/simple/\n",
            "Requirement already satisfied: pyswarms in /usr/local/lib/python3.7/dist-packages (1.3.0)\n",
            "Requirement already satisfied: numpy in /usr/local/lib/python3.7/dist-packages (from pyswarms) (1.21.6)\n",
            "Requirement already satisfied: matplotlib>=1.3.1 in /usr/local/lib/python3.7/dist-packages (from pyswarms) (3.2.2)\n",
            "Requirement already satisfied: pyyaml in /usr/local/lib/python3.7/dist-packages (from pyswarms) (3.13)\n",
            "Requirement already satisfied: future in /usr/local/lib/python3.7/dist-packages (from pyswarms) (0.16.0)\n",
            "Requirement already satisfied: attrs in /usr/local/lib/python3.7/dist-packages (from pyswarms) (21.4.0)\n",
            "Requirement already satisfied: scipy in /usr/local/lib/python3.7/dist-packages (from pyswarms) (1.7.3)\n",
            "Requirement already satisfied: tqdm in /usr/local/lib/python3.7/dist-packages (from pyswarms) (4.64.0)\n",
            "Requirement already satisfied: pyparsing!=2.0.4,!=2.1.2,!=2.1.6,>=2.0.1 in /usr/local/lib/python3.7/dist-packages (from matplotlib>=1.3.1->pyswarms) (3.0.9)\n",
            "Requirement already satisfied: cycler>=0.10 in /usr/local/lib/python3.7/dist-packages (from matplotlib>=1.3.1->pyswarms) (0.11.0)\n",
            "Requirement already satisfied: python-dateutil>=2.1 in /usr/local/lib/python3.7/dist-packages (from matplotlib>=1.3.1->pyswarms) (2.8.2)\n",
            "Requirement already satisfied: kiwisolver>=1.0.1 in /usr/local/lib/python3.7/dist-packages (from matplotlib>=1.3.1->pyswarms) (1.4.4)\n",
            "Requirement already satisfied: typing-extensions in /usr/local/lib/python3.7/dist-packages (from kiwisolver>=1.0.1->matplotlib>=1.3.1->pyswarms) (4.1.1)\n",
            "Requirement already satisfied: six>=1.5 in /usr/local/lib/python3.7/dist-packages (from python-dateutil>=2.1->matplotlib>=1.3.1->pyswarms) (1.15.0)\n"
          ]
        }
      ],
      "source": [
        "!pip install pyswarms"
      ]
    },
    {
      "cell_type": "code",
      "execution_count": 4,
      "metadata": {
        "id": "Z97nscZ1q5rg"
      },
      "outputs": [],
      "source": [
        "import pyswarms as ps"
      ]
    },
    {
      "cell_type": "code",
      "execution_count": 5,
      "metadata": {
        "colab": {
          "base_uri": "https://localhost:8080/"
        },
        "id": "ouFChm8uq7z7",
        "outputId": "fc63d063-3d70-4ac4-dd39-eef5479c933e"
      },
      "outputs": [
        {
          "output_type": "stream",
          "name": "stdout",
          "text": [
            "Looking in indexes: https://pypi.org/simple, https://us-python.pkg.dev/colab-wheels/public/simple/\n",
            "Requirement already satisfied: geneticalgorithm in /usr/local/lib/python3.7/dist-packages (1.0.2)\n",
            "Requirement already satisfied: func-timeout in /usr/local/lib/python3.7/dist-packages (from geneticalgorithm) (4.3.5)\n",
            "Requirement already satisfied: numpy in /usr/local/lib/python3.7/dist-packages (from geneticalgorithm) (1.21.6)\n"
          ]
        }
      ],
      "source": [
        "!pip install geneticalgorithm"
      ]
    },
    {
      "cell_type": "code",
      "execution_count": 6,
      "metadata": {
        "id": "6zRpDza3q9Md"
      },
      "outputs": [],
      "source": [
        "from geneticalgorithm import geneticalgorithm as ga"
      ]
    },
    {
      "cell_type": "code",
      "execution_count": 7,
      "metadata": {
        "id": "qUtO6HRrq_Fs"
      },
      "outputs": [],
      "source": [
        "air_data = pd.read_csv('drive/MyDrive/Examples 310/AirI.csv')"
      ]
    },
    {
      "cell_type": "code",
      "execution_count": 8,
      "metadata": {
        "id": "2xLrYU50rBWy"
      },
      "outputs": [],
      "source": [
        "air_data\n",
        "Df = air_data"
      ]
    },
    {
      "cell_type": "code",
      "execution_count": 9,
      "metadata": {
        "colab": {
          "base_uri": "https://localhost:8080/",
          "height": 488
        },
        "id": "3XqV17cXpV1q",
        "outputId": "65674ac6-e802-435d-8580-c660e682bf42"
      },
      "outputs": [
        {
          "output_type": "execute_result",
          "data": {
            "text/plain": [
              "     3.4482  0.0013136   0.15747    0.6883   0.15292         0      0.1  \\\n",
              "0    3.3019   0.188490  0.553190  0.258290  0.000031  0.000000  0.00000   \n",
              "1    2.2894   0.052169  0.438520  0.494030  0.015282  0.000000  0.00000   \n",
              "2    2.6207   0.000000  0.000000  0.004213  0.109340  0.493440  0.39300   \n",
              "3    2.8439   0.000000  0.000000  0.019504  0.260470  0.549860  0.17016   \n",
              "4    2.6684   0.331420  0.518940  0.147120  0.000000  0.000000  0.00000   \n",
              "..      ...        ...       ...       ...       ...       ...      ...   \n",
              "105  2.4101   0.301000  0.021904  0.000415  0.000000  0.000000  0.00000   \n",
              "106  3.1072   0.000734  0.138890  0.688740  0.171630  0.000000  0.00000   \n",
              "107  2.4101   0.001095  0.151180  0.688720  0.159000  0.000000  0.00000   \n",
              "108  2.6207   0.117370  0.526200  0.354590  0.001831  0.000000  0.00000   \n",
              "109  2.7144   0.000000  0.020058  0.538580  0.436120  0.005236  0.00000   \n",
              "\n",
              "     0.096603  0.52135   0.38205  ...  -2.9459   0.21996  -0.69045   0.24044  \\\n",
              "0    0.039008  0.43211  0.527160  ... -0.22680 -0.428570   0.74992 -0.111920   \n",
              "1    0.000000  0.00000  0.394840  ...  1.15790  0.010118   0.73593  1.356000   \n",
              "2    0.000000  0.00000  0.578540  ... -0.69767  1.577800   0.54899 -0.780420   \n",
              "3    0.010568  0.30520  0.670460  ... -1.49170 -0.688640  -0.69924  0.360740   \n",
              "4    0.000000  0.00000  0.244070  ... -0.35923 -0.029500   0.54853  1.929200   \n",
              "..        ...      ...       ...  ...      ...       ...       ...       ...   \n",
              "105  0.000000  0.00000  0.051206  ... -1.56660 -1.097100   2.77450  0.679850   \n",
              "106  0.171260  0.54746  0.280340  ... -0.32440 -1.341500  -1.51650  0.870840   \n",
              "107  0.000000  0.00000  0.194760  ... -0.49572 -0.832130   0.52386  0.189400   \n",
              "108  0.039008  0.43211  0.527160  ... -0.87353  0.063740   0.20128  0.090828   \n",
              "109  0.000000  0.00000  0.578540  ...  0.69068  0.480600   1.87800 -1.188400   \n",
              "\n",
              "     -0.25864   1.3387   0.11482  -0.43046  0.82309    1.5435  \n",
              "0    1.583000  0.88565 -0.053227   0.67796 -1.72010 -0.550510  \n",
              "1    0.057821 -1.44140  1.581800   1.25420  1.02540 -1.018900  \n",
              "2    1.136700 -0.84240  0.993120  -0.44576 -0.78778 -1.490900  \n",
              "3   -0.685860 -0.76161 -0.354560   0.83093 -0.27100  0.388610  \n",
              "4    1.063400  1.82900  0.142320  -0.46403 -2.18420 -1.967500  \n",
              "..        ...      ...       ...       ...      ...       ...  \n",
              "105 -0.292200  0.13691 -0.439250  -1.56390  0.29082  0.023485  \n",
              "106  1.023700  0.26581  0.174520  -0.29601  1.13600  0.217580  \n",
              "107  1.115700 -0.14259 -0.481300  -1.58790 -0.23976  1.717000  \n",
              "108  0.338310 -1.23960 -1.197600  -0.35008  0.59517  0.803430  \n",
              "109  0.735140  0.88927  0.678760  -1.16430 -0.49661  0.503380  \n",
              "\n",
              "[110 rows x 512 columns]"
            ],
            "text/html": [
              "\n",
              "  <div id=\"df-526fa586-3cf8-41c8-afe6-1deb5bad9e65\">\n",
              "    <div class=\"colab-df-container\">\n",
              "      <div>\n",
              "<style scoped>\n",
              "    .dataframe tbody tr th:only-of-type {\n",
              "        vertical-align: middle;\n",
              "    }\n",
              "\n",
              "    .dataframe tbody tr th {\n",
              "        vertical-align: top;\n",
              "    }\n",
              "\n",
              "    .dataframe thead th {\n",
              "        text-align: right;\n",
              "    }\n",
              "</style>\n",
              "<table border=\"1\" class=\"dataframe\">\n",
              "  <thead>\n",
              "    <tr style=\"text-align: right;\">\n",
              "      <th></th>\n",
              "      <th>3.4482</th>\n",
              "      <th>0.0013136</th>\n",
              "      <th>0.15747</th>\n",
              "      <th>0.6883</th>\n",
              "      <th>0.15292</th>\n",
              "      <th>0</th>\n",
              "      <th>0.1</th>\n",
              "      <th>0.096603</th>\n",
              "      <th>0.52135</th>\n",
              "      <th>0.38205</th>\n",
              "      <th>...</th>\n",
              "      <th>-2.9459</th>\n",
              "      <th>0.21996</th>\n",
              "      <th>-0.69045</th>\n",
              "      <th>0.24044</th>\n",
              "      <th>-0.25864</th>\n",
              "      <th>1.3387</th>\n",
              "      <th>0.11482</th>\n",
              "      <th>-0.43046</th>\n",
              "      <th>0.82309</th>\n",
              "      <th>1.5435</th>\n",
              "    </tr>\n",
              "  </thead>\n",
              "  <tbody>\n",
              "    <tr>\n",
              "      <th>0</th>\n",
              "      <td>3.3019</td>\n",
              "      <td>0.188490</td>\n",
              "      <td>0.553190</td>\n",
              "      <td>0.258290</td>\n",
              "      <td>0.000031</td>\n",
              "      <td>0.000000</td>\n",
              "      <td>0.00000</td>\n",
              "      <td>0.039008</td>\n",
              "      <td>0.43211</td>\n",
              "      <td>0.527160</td>\n",
              "      <td>...</td>\n",
              "      <td>-0.22680</td>\n",
              "      <td>-0.428570</td>\n",
              "      <td>0.74992</td>\n",
              "      <td>-0.111920</td>\n",
              "      <td>1.583000</td>\n",
              "      <td>0.88565</td>\n",
              "      <td>-0.053227</td>\n",
              "      <td>0.67796</td>\n",
              "      <td>-1.72010</td>\n",
              "      <td>-0.550510</td>\n",
              "    </tr>\n",
              "    <tr>\n",
              "      <th>1</th>\n",
              "      <td>2.2894</td>\n",
              "      <td>0.052169</td>\n",
              "      <td>0.438520</td>\n",
              "      <td>0.494030</td>\n",
              "      <td>0.015282</td>\n",
              "      <td>0.000000</td>\n",
              "      <td>0.00000</td>\n",
              "      <td>0.000000</td>\n",
              "      <td>0.00000</td>\n",
              "      <td>0.394840</td>\n",
              "      <td>...</td>\n",
              "      <td>1.15790</td>\n",
              "      <td>0.010118</td>\n",
              "      <td>0.73593</td>\n",
              "      <td>1.356000</td>\n",
              "      <td>0.057821</td>\n",
              "      <td>-1.44140</td>\n",
              "      <td>1.581800</td>\n",
              "      <td>1.25420</td>\n",
              "      <td>1.02540</td>\n",
              "      <td>-1.018900</td>\n",
              "    </tr>\n",
              "    <tr>\n",
              "      <th>2</th>\n",
              "      <td>2.6207</td>\n",
              "      <td>0.000000</td>\n",
              "      <td>0.000000</td>\n",
              "      <td>0.004213</td>\n",
              "      <td>0.109340</td>\n",
              "      <td>0.493440</td>\n",
              "      <td>0.39300</td>\n",
              "      <td>0.000000</td>\n",
              "      <td>0.00000</td>\n",
              "      <td>0.578540</td>\n",
              "      <td>...</td>\n",
              "      <td>-0.69767</td>\n",
              "      <td>1.577800</td>\n",
              "      <td>0.54899</td>\n",
              "      <td>-0.780420</td>\n",
              "      <td>1.136700</td>\n",
              "      <td>-0.84240</td>\n",
              "      <td>0.993120</td>\n",
              "      <td>-0.44576</td>\n",
              "      <td>-0.78778</td>\n",
              "      <td>-1.490900</td>\n",
              "    </tr>\n",
              "    <tr>\n",
              "      <th>3</th>\n",
              "      <td>2.8439</td>\n",
              "      <td>0.000000</td>\n",
              "      <td>0.000000</td>\n",
              "      <td>0.019504</td>\n",
              "      <td>0.260470</td>\n",
              "      <td>0.549860</td>\n",
              "      <td>0.17016</td>\n",
              "      <td>0.010568</td>\n",
              "      <td>0.30520</td>\n",
              "      <td>0.670460</td>\n",
              "      <td>...</td>\n",
              "      <td>-1.49170</td>\n",
              "      <td>-0.688640</td>\n",
              "      <td>-0.69924</td>\n",
              "      <td>0.360740</td>\n",
              "      <td>-0.685860</td>\n",
              "      <td>-0.76161</td>\n",
              "      <td>-0.354560</td>\n",
              "      <td>0.83093</td>\n",
              "      <td>-0.27100</td>\n",
              "      <td>0.388610</td>\n",
              "    </tr>\n",
              "    <tr>\n",
              "      <th>4</th>\n",
              "      <td>2.6684</td>\n",
              "      <td>0.331420</td>\n",
              "      <td>0.518940</td>\n",
              "      <td>0.147120</td>\n",
              "      <td>0.000000</td>\n",
              "      <td>0.000000</td>\n",
              "      <td>0.00000</td>\n",
              "      <td>0.000000</td>\n",
              "      <td>0.00000</td>\n",
              "      <td>0.244070</td>\n",
              "      <td>...</td>\n",
              "      <td>-0.35923</td>\n",
              "      <td>-0.029500</td>\n",
              "      <td>0.54853</td>\n",
              "      <td>1.929200</td>\n",
              "      <td>1.063400</td>\n",
              "      <td>1.82900</td>\n",
              "      <td>0.142320</td>\n",
              "      <td>-0.46403</td>\n",
              "      <td>-2.18420</td>\n",
              "      <td>-1.967500</td>\n",
              "    </tr>\n",
              "    <tr>\n",
              "      <th>...</th>\n",
              "      <td>...</td>\n",
              "      <td>...</td>\n",
              "      <td>...</td>\n",
              "      <td>...</td>\n",
              "      <td>...</td>\n",
              "      <td>...</td>\n",
              "      <td>...</td>\n",
              "      <td>...</td>\n",
              "      <td>...</td>\n",
              "      <td>...</td>\n",
              "      <td>...</td>\n",
              "      <td>...</td>\n",
              "      <td>...</td>\n",
              "      <td>...</td>\n",
              "      <td>...</td>\n",
              "      <td>...</td>\n",
              "      <td>...</td>\n",
              "      <td>...</td>\n",
              "      <td>...</td>\n",
              "      <td>...</td>\n",
              "      <td>...</td>\n",
              "    </tr>\n",
              "    <tr>\n",
              "      <th>105</th>\n",
              "      <td>2.4101</td>\n",
              "      <td>0.301000</td>\n",
              "      <td>0.021904</td>\n",
              "      <td>0.000415</td>\n",
              "      <td>0.000000</td>\n",
              "      <td>0.000000</td>\n",
              "      <td>0.00000</td>\n",
              "      <td>0.000000</td>\n",
              "      <td>0.00000</td>\n",
              "      <td>0.051206</td>\n",
              "      <td>...</td>\n",
              "      <td>-1.56660</td>\n",
              "      <td>-1.097100</td>\n",
              "      <td>2.77450</td>\n",
              "      <td>0.679850</td>\n",
              "      <td>-0.292200</td>\n",
              "      <td>0.13691</td>\n",
              "      <td>-0.439250</td>\n",
              "      <td>-1.56390</td>\n",
              "      <td>0.29082</td>\n",
              "      <td>0.023485</td>\n",
              "    </tr>\n",
              "    <tr>\n",
              "      <th>106</th>\n",
              "      <td>3.1072</td>\n",
              "      <td>0.000734</td>\n",
              "      <td>0.138890</td>\n",
              "      <td>0.688740</td>\n",
              "      <td>0.171630</td>\n",
              "      <td>0.000000</td>\n",
              "      <td>0.00000</td>\n",
              "      <td>0.171260</td>\n",
              "      <td>0.54746</td>\n",
              "      <td>0.280340</td>\n",
              "      <td>...</td>\n",
              "      <td>-0.32440</td>\n",
              "      <td>-1.341500</td>\n",
              "      <td>-1.51650</td>\n",
              "      <td>0.870840</td>\n",
              "      <td>1.023700</td>\n",
              "      <td>0.26581</td>\n",
              "      <td>0.174520</td>\n",
              "      <td>-0.29601</td>\n",
              "      <td>1.13600</td>\n",
              "      <td>0.217580</td>\n",
              "    </tr>\n",
              "    <tr>\n",
              "      <th>107</th>\n",
              "      <td>2.4101</td>\n",
              "      <td>0.001095</td>\n",
              "      <td>0.151180</td>\n",
              "      <td>0.688720</td>\n",
              "      <td>0.159000</td>\n",
              "      <td>0.000000</td>\n",
              "      <td>0.00000</td>\n",
              "      <td>0.000000</td>\n",
              "      <td>0.00000</td>\n",
              "      <td>0.194760</td>\n",
              "      <td>...</td>\n",
              "      <td>-0.49572</td>\n",
              "      <td>-0.832130</td>\n",
              "      <td>0.52386</td>\n",
              "      <td>0.189400</td>\n",
              "      <td>1.115700</td>\n",
              "      <td>-0.14259</td>\n",
              "      <td>-0.481300</td>\n",
              "      <td>-1.58790</td>\n",
              "      <td>-0.23976</td>\n",
              "      <td>1.717000</td>\n",
              "    </tr>\n",
              "    <tr>\n",
              "      <th>108</th>\n",
              "      <td>2.6207</td>\n",
              "      <td>0.117370</td>\n",
              "      <td>0.526200</td>\n",
              "      <td>0.354590</td>\n",
              "      <td>0.001831</td>\n",
              "      <td>0.000000</td>\n",
              "      <td>0.00000</td>\n",
              "      <td>0.039008</td>\n",
              "      <td>0.43211</td>\n",
              "      <td>0.527160</td>\n",
              "      <td>...</td>\n",
              "      <td>-0.87353</td>\n",
              "      <td>0.063740</td>\n",
              "      <td>0.20128</td>\n",
              "      <td>0.090828</td>\n",
              "      <td>0.338310</td>\n",
              "      <td>-1.23960</td>\n",
              "      <td>-1.197600</td>\n",
              "      <td>-0.35008</td>\n",
              "      <td>0.59517</td>\n",
              "      <td>0.803430</td>\n",
              "    </tr>\n",
              "    <tr>\n",
              "      <th>109</th>\n",
              "      <td>2.7144</td>\n",
              "      <td>0.000000</td>\n",
              "      <td>0.020058</td>\n",
              "      <td>0.538580</td>\n",
              "      <td>0.436120</td>\n",
              "      <td>0.005236</td>\n",
              "      <td>0.00000</td>\n",
              "      <td>0.000000</td>\n",
              "      <td>0.00000</td>\n",
              "      <td>0.578540</td>\n",
              "      <td>...</td>\n",
              "      <td>0.69068</td>\n",
              "      <td>0.480600</td>\n",
              "      <td>1.87800</td>\n",
              "      <td>-1.188400</td>\n",
              "      <td>0.735140</td>\n",
              "      <td>0.88927</td>\n",
              "      <td>0.678760</td>\n",
              "      <td>-1.16430</td>\n",
              "      <td>-0.49661</td>\n",
              "      <td>0.503380</td>\n",
              "    </tr>\n",
              "  </tbody>\n",
              "</table>\n",
              "<p>110 rows × 512 columns</p>\n",
              "</div>\n",
              "      <button class=\"colab-df-convert\" onclick=\"convertToInteractive('df-526fa586-3cf8-41c8-afe6-1deb5bad9e65')\"\n",
              "              title=\"Convert this dataframe to an interactive table.\"\n",
              "              style=\"display:none;\">\n",
              "        \n",
              "  <svg xmlns=\"http://www.w3.org/2000/svg\" height=\"24px\"viewBox=\"0 0 24 24\"\n",
              "       width=\"24px\">\n",
              "    <path d=\"M0 0h24v24H0V0z\" fill=\"none\"/>\n",
              "    <path d=\"M18.56 5.44l.94 2.06.94-2.06 2.06-.94-2.06-.94-.94-2.06-.94 2.06-2.06.94zm-11 1L8.5 8.5l.94-2.06 2.06-.94-2.06-.94L8.5 2.5l-.94 2.06-2.06.94zm10 10l.94 2.06.94-2.06 2.06-.94-2.06-.94-.94-2.06-.94 2.06-2.06.94z\"/><path d=\"M17.41 7.96l-1.37-1.37c-.4-.4-.92-.59-1.43-.59-.52 0-1.04.2-1.43.59L10.3 9.45l-7.72 7.72c-.78.78-.78 2.05 0 2.83L4 21.41c.39.39.9.59 1.41.59.51 0 1.02-.2 1.41-.59l7.78-7.78 2.81-2.81c.8-.78.8-2.07 0-2.86zM5.41 20L4 18.59l7.72-7.72 1.47 1.35L5.41 20z\"/>\n",
              "  </svg>\n",
              "      </button>\n",
              "      \n",
              "  <style>\n",
              "    .colab-df-container {\n",
              "      display:flex;\n",
              "      flex-wrap:wrap;\n",
              "      gap: 12px;\n",
              "    }\n",
              "\n",
              "    .colab-df-convert {\n",
              "      background-color: #E8F0FE;\n",
              "      border: none;\n",
              "      border-radius: 50%;\n",
              "      cursor: pointer;\n",
              "      display: none;\n",
              "      fill: #1967D2;\n",
              "      height: 32px;\n",
              "      padding: 0 0 0 0;\n",
              "      width: 32px;\n",
              "    }\n",
              "\n",
              "    .colab-df-convert:hover {\n",
              "      background-color: #E2EBFA;\n",
              "      box-shadow: 0px 1px 2px rgba(60, 64, 67, 0.3), 0px 1px 3px 1px rgba(60, 64, 67, 0.15);\n",
              "      fill: #174EA6;\n",
              "    }\n",
              "\n",
              "    [theme=dark] .colab-df-convert {\n",
              "      background-color: #3B4455;\n",
              "      fill: #D2E3FC;\n",
              "    }\n",
              "\n",
              "    [theme=dark] .colab-df-convert:hover {\n",
              "      background-color: #434B5C;\n",
              "      box-shadow: 0px 1px 3px 1px rgba(0, 0, 0, 0.15);\n",
              "      filter: drop-shadow(0px 1px 2px rgba(0, 0, 0, 0.3));\n",
              "      fill: #FFFFFF;\n",
              "    }\n",
              "  </style>\n",
              "\n",
              "      <script>\n",
              "        const buttonEl =\n",
              "          document.querySelector('#df-526fa586-3cf8-41c8-afe6-1deb5bad9e65 button.colab-df-convert');\n",
              "        buttonEl.style.display =\n",
              "          google.colab.kernel.accessAllowed ? 'block' : 'none';\n",
              "\n",
              "        async function convertToInteractive(key) {\n",
              "          const element = document.querySelector('#df-526fa586-3cf8-41c8-afe6-1deb5bad9e65');\n",
              "          const dataTable =\n",
              "            await google.colab.kernel.invokeFunction('convertToInteractive',\n",
              "                                                     [key], {});\n",
              "          if (!dataTable) return;\n",
              "\n",
              "          const docLinkHtml = 'Like what you see? Visit the ' +\n",
              "            '<a target=\"_blank\" href=https://colab.research.google.com/notebooks/data_table.ipynb>data table notebook</a>'\n",
              "            + ' to learn more about interactive tables.';\n",
              "          element.innerHTML = '';\n",
              "          dataTable['output_type'] = 'display_data';\n",
              "          await google.colab.output.renderOutput(dataTable, element);\n",
              "          const docLink = document.createElement('div');\n",
              "          docLink.innerHTML = docLinkHtml;\n",
              "          element.appendChild(docLink);\n",
              "        }\n",
              "      </script>\n",
              "    </div>\n",
              "  </div>\n",
              "  "
            ]
          },
          "metadata": {},
          "execution_count": 9
        }
      ],
      "source": [
        "Df"
      ]
    },
    {
      "cell_type": "code",
      "execution_count": 10,
      "metadata": {
        "id": "Rpk79NhZrHCE"
      },
      "outputs": [],
      "source": [
        "y = Df.iloc[:,0].values\n",
        "x = Df.drop('3.4482', axis = 1).values"
      ]
    },
    {
      "cell_type": "code",
      "source": [
        "x"
      ],
      "metadata": {
        "colab": {
          "base_uri": "https://localhost:8080/"
        },
        "id": "9bcq_8Neq_Ly",
        "outputId": "c86b90d6-2147-4697-9ad5-9f8d72b15b67"
      },
      "execution_count": 11,
      "outputs": [
        {
          "output_type": "execute_result",
          "data": {
            "text/plain": [
              "array([[ 1.8849e-01,  5.5319e-01,  2.5829e-01, ...,  6.7796e-01,\n",
              "        -1.7201e+00, -5.5051e-01],\n",
              "       [ 5.2169e-02,  4.3852e-01,  4.9403e-01, ...,  1.2542e+00,\n",
              "         1.0254e+00, -1.0189e+00],\n",
              "       [ 0.0000e+00,  0.0000e+00,  4.2128e-03, ..., -4.4576e-01,\n",
              "        -7.8778e-01, -1.4909e+00],\n",
              "       ...,\n",
              "       [ 1.0952e-03,  1.5118e-01,  6.8872e-01, ..., -1.5879e+00,\n",
              "        -2.3976e-01,  1.7170e+00],\n",
              "       [ 1.1737e-01,  5.2620e-01,  3.5459e-01, ..., -3.5008e-01,\n",
              "         5.9517e-01,  8.0343e-01],\n",
              "       [ 0.0000e+00,  2.0058e-02,  5.3858e-01, ..., -1.1643e+00,\n",
              "        -4.9661e-01,  5.0338e-01]])"
            ]
          },
          "metadata": {},
          "execution_count": 11
        }
      ]
    },
    {
      "cell_type": "code",
      "execution_count": 12,
      "metadata": {
        "id": "yZxs6rObrN6D"
      },
      "outputs": [],
      "source": [
        "kf = KFold(n_splits = 10, shuffle = True, random_state=123)"
      ]
    },
    {
      "cell_type": "code",
      "execution_count": 13,
      "metadata": {
        "id": "cNb6Mf9U5H_G"
      },
      "outputs": [],
      "source": [
        "scale = StandardScaler()"
      ]
    },
    {
      "cell_type": "markdown",
      "source": [
        "#### ElasticNet"
      ],
      "metadata": {
        "id": "PRiSSkQA6VSX"
      }
    },
    {
      "cell_type": "markdown",
      "source": [
        "Objective function for Particle Swarm Optimization "
      ],
      "metadata": {
        "id": "rkUVkRNb5vI7"
      }
    },
    {
      "cell_type": "code",
      "execution_count": 14,
      "metadata": {
        "id": "OKmeoptTrPhb"
      },
      "outputs": [],
      "source": [
        "#applying pso \n",
        "def objective_pso(h):\n",
        "  output = []\n",
        "  for i in range(h.shape[0]):\n",
        "    a = h[i,0]\n",
        "    l = h[i,1]\n",
        "    model = ElasticNet(alpha=a,l1_ratio=l,max_iter=5000)\n",
        "    PE = []\n",
        "    for idxtrain, idxtest in kf.split(x):\n",
        "      xtrain = x[idxtrain]\n",
        "      ytrain = y[idxtrain]\n",
        "      xtrain = scale.fit_transform(xtrain)\n",
        "      xtest = x[idxtest]\n",
        "      ytest = y[idxtest]\n",
        "      xtest = scale.transform(xtest)\n",
        "      model.fit(xtrain,ytrain)\n",
        "      PE.append(MSE(ytest,model.predict(xtest)))\n",
        "    output.append(np.mean(PE))\n",
        "  return output"
      ]
    },
    {
      "cell_type": "code",
      "execution_count": 15,
      "metadata": {
        "colab": {
          "base_uri": "https://localhost:8080/"
        },
        "id": "xm2AGIswrVLc",
        "outputId": "c255aa88-3051-4671-bc18-28d760c4f8b1"
      },
      "outputs": [
        {
          "output_type": "stream",
          "name": "stderr",
          "text": [
            "2022-08-01 01:34:32,564 - pyswarms.single.global_best - INFO - Optimize for 100 iters with {'c1': 0.25, 'c2': 0.25, 'w': 0.5}\n",
            "pyswarms.single.global_best: 100%|██████████|100/100, best_cost=0.269\n",
            "2022-08-01 01:39:01,671 - pyswarms.single.global_best - INFO - Optimization finished | best cost: 0.26923488186693595, best pos: [0.33988461 0.163349  ]\n"
          ]
        }
      ],
      "source": [
        "#boundaries for pso\n",
        "max = np.array([2,1])\n",
        "min = np.array([0,0])\n",
        "bounds = (min, max)\n",
        "options = {'c1': 0.25, 'c2': 0.25, 'w': 0.5}\n",
        "optimizer = ps.single.GlobalBestPSO(n_particles=40, dimensions=2, options=options, bounds=bounds)\n",
        "cost, pos = optimizer.optimize(objective_pso, iters=100)"
      ]
    },
    {
      "cell_type": "markdown",
      "metadata": {
        "id": "3cjORlF8b2mS"
      },
      "source": [
        "Objective functions for Simulated Annealing and Genetic Algorithm\n"
      ]
    },
    {
      "cell_type": "code",
      "execution_count": 34,
      "metadata": {
        "id": "QOECxeDPrZAz"
      },
      "outputs": [],
      "source": [
        "#this is for simulated annealing and GA:\n",
        "def objective(h):\n",
        "  a = h[0]\n",
        "  l = h[1]\n",
        "  model = ElasticNet(alpha = a, l1_ratio=l,max_iter=50000)\n",
        "  PE = []\n",
        "  for idxtrain, idxtest in kf.split(x):\n",
        "      xtrain = x[idxtrain]\n",
        "      ytrain = y[idxtrain]\n",
        "      xtrain = scale.fit_transform(xtrain)\n",
        "      xtest = x[idxtest]\n",
        "      ytest = y[idxtest]\n",
        "      xtest = scale.transform(xtest)\n",
        "      model.fit(xtrain,ytrain)\n",
        "      PE.append(MSE(ytest,model.predict(xtest)))\n",
        "  return np.mean(PE)"
      ]
    },
    {
      "cell_type": "code",
      "execution_count": 35,
      "metadata": {
        "colab": {
          "base_uri": "https://localhost:8080/",
          "height": 383
        },
        "id": "rH5hGmcergcR",
        "outputId": "464a6daa-3f20-4e25-da37-c439a90efcd2"
      },
      "outputs": [
        {
          "output_type": "stream",
          "name": "stdout",
          "text": [
            " The best solution found:\n",
            " [0.34833908 0.16144789]\n",
            "\n",
            " Objective function:\n",
            " 0.2692537331281054\n"
          ]
        },
        {
          "output_type": "display_data",
          "data": {
            "text/plain": [
              "<Figure size 432x288 with 1 Axes>"
            ],
            "image/png": "[encoded data removed]"
          },
          "metadata": {
            "image/png": {
              "width": 404,
              "height": 277
            },
            "needs_background": "light"
          }
        }
      ],
      "source": [
        "#adjusting bounds for ga\n",
        "varbound=np.array([[0,2],[0,1]])\n",
        "\n",
        "model=ga(function=objective,dimension=2,variable_type='real',variable_boundaries=varbound)\n",
        "\n",
        "model.run()"
      ]
    },
    {
      "cell_type": "code",
      "execution_count": 36,
      "metadata": {
        "id": "c9DX9wINrlDD"
      },
      "outputs": [],
      "source": [
        "#adjusting bounds for simulated annealing \n",
        "from scipy.optimize import dual_annealing"
      ]
    },
    {
      "cell_type": "code",
      "execution_count": 39,
      "metadata": {
        "id": "5W9D4R2Brm6D"
      },
      "outputs": [],
      "source": [
        "lb = [0.0001,0.0001]\n",
        "ub = [2,1]\n",
        "ret = dual_annealing(objective, bounds=list(zip(lb, ub)),maxiter=10000,maxfun=10000)\n"
      ]
    },
    {
      "cell_type": "code",
      "execution_count": 40,
      "metadata": {
        "colab": {
          "base_uri": "https://localhost:8080/"
        },
        "id": "IJBLbooZror-",
        "outputId": "e38fcdf5-8ed3-4e9e-ea54-b3aa50d1a7c9"
      },
      "outputs": [
        {
          "output_type": "execute_result",
          "data": {
            "text/plain": [
              "array([0.33961504, 0.1633908 ])"
            ]
          },
          "metadata": {},
          "execution_count": 40
        }
      ],
      "source": [
        "ret.x #gives best alpha and l1 ratio "
      ]
    },
    {
      "cell_type": "code",
      "execution_count": 41,
      "metadata": {
        "colab": {
          "base_uri": "https://localhost:8080/"
        },
        "id": "xG5nA2WlbLqN",
        "outputId": "c81cd4f8-1588-4d39-da3b-6516834b78e3"
      },
      "outputs": [
        {
          "output_type": "execute_result",
          "data": {
            "text/plain": [
              "     fun: 0.26923494380999796\n",
              " message: ['Maximum number of function call reached during annealing']\n",
              "    nfev: 10000\n",
              "    nhev: 0\n",
              "     nit: 2263\n",
              "    njev: 314\n",
              "  status: 0\n",
              " success: False\n",
              "       x: array([0.33961504, 0.1633908 ])"
            ]
          },
          "metadata": {},
          "execution_count": 41
        }
      ],
      "source": [
        "ret #to find the best cost value "
      ]
    },
    {
      "cell_type": "markdown",
      "source": [
        "The best cost value for ElasticNet from using the objective functions for Particle Swarm Optimization, Genetic Algorithm, and Simulated Annealing is 0.269. The best Alpha value is 0.340 and L1 Ratio is 0.163. "
      ],
      "metadata": {
        "id": "bWcoYyYX-ZIA"
      }
    },
    {
      "cell_type": "markdown",
      "source": [
        "#### Support Vector Regression"
      ],
      "metadata": {
        "id": "ZE3siGQ-6LF-"
      }
    },
    {
      "cell_type": "markdown",
      "source": [
        "Objective function for Particle Swarm Optimization"
      ],
      "metadata": {
        "id": "s-hNKZxh65CH"
      }
    },
    {
      "cell_type": "code",
      "execution_count": 30,
      "metadata": {
        "id": "JlvZv8Fnrv46"
      },
      "outputs": [],
      "source": [
        "#for support vector regressions \n",
        "#this is the techinical format if you want to apply PSO\n",
        "def objective_pso(h): #h stands for hyperparameters\n",
        "  output = []\n",
        "  for i in range(h.shape[0]):\n",
        "    e = h[i,0]\n",
        "    C = h[i,1]\n",
        "    model = SVR(kernel='linear', epsilon=e,C=C)\n",
        "    PE = []\n",
        "    for idxtrain, idxtest in kf.split(x):\n",
        "      xtrain = x[idxtrain]\n",
        "      ytrain = y[idxtrain]\n",
        "      xtrain = scale.fit_transform(xtrain)\n",
        "      xtest = x[idxtest]\n",
        "      ytest = y[idxtest]\n",
        "      xtest = scale.transform(xtest)\n",
        "      model.fit(xtrain,ytrain)\n",
        "      PE.append(MSE(ytest,model.predict(xtest)))\n",
        "    output.append(np.mean(PE))\n",
        "  return output"
      ]
    },
    {
      "cell_type": "code",
      "execution_count": 32,
      "metadata": {
        "colab": {
          "base_uri": "https://localhost:8080/"
        },
        "id": "cUHKvqw7JRKU",
        "outputId": "6ffd329b-4332-42d0-b5f6-fb4146e17725"
      },
      "outputs": [
        {
          "output_type": "stream",
          "name": "stderr",
          "text": [
            "2022-08-01 02:21:43,795 - pyswarms.single.global_best - INFO - Optimize for 100 iters with {'c1': 0.25, 'c2': 0.25, 'w': 0.5}\n",
            "pyswarms.single.global_best: 100%|██████████|100/100, best_cost=0.288\n",
            "2022-08-01 02:26:02,002 - pyswarms.single.global_best - INFO - Optimization finished | best cost: 0.2878398846015823, best pos: [0.14907082 1.0508861 ]\n"
          ]
        }
      ],
      "source": [
        "#adjusting boundaries for pso\n",
        "max = np.array([1,2])\n",
        "min = np.array([0,0])\n",
        "bounds = (min, max)\n",
        "options = {'c1': 0.25, 'c2': 0.25, 'w': 0.5}\n",
        "optimizer = ps.single.GlobalBestPSO(n_particles=50, dimensions=2, options=options, bounds=bounds)\n",
        "cost, pos = optimizer.optimize(objective_pso, iters=100)"
      ]
    },
    {
      "cell_type": "markdown",
      "source": [
        "Objective function for Simulated Annealing and Genetic Algorithm "
      ],
      "metadata": {
        "id": "iwClIf5s6_kh"
      }
    },
    {
      "cell_type": "code",
      "execution_count": 20,
      "metadata": {
        "id": "6WiyH1OxfxFc"
      },
      "outputs": [],
      "source": [
        "#this is for simulated annealing and GA:\n",
        "def objective(h):\n",
        "  e = h[0]\n",
        "  C = h[1]\n",
        "  model = SVR(kernel='linear', epsilon=e,C=C)\n",
        "  PE = []\n",
        "  for idxtrain, idxtest in kf.split(x):\n",
        "      xtrain = x[idxtrain]\n",
        "      ytrain = y[idxtrain]\n",
        "      xtrain = scale.fit_transform(xtrain)\n",
        "      xtest = x[idxtest]\n",
        "      ytest = y[idxtest]\n",
        "      xtest = scale.transform(xtest)\n",
        "      model.fit(xtrain,ytrain)\n",
        "      PE.append(MSE(ytest,model.predict(xtest)))\n",
        "  return np.mean(PE)"
      ]
    },
    {
      "cell_type": "code",
      "execution_count": 22,
      "metadata": {
        "colab": {
          "base_uri": "https://localhost:8080/",
          "height": 383
        },
        "id": "Gay7Kipff3Xa",
        "outputId": "c2e78fcb-2166-4d29-8663-d3699fd28f27"
      },
      "outputs": [
        {
          "output_type": "stream",
          "name": "stdout",
          "text": [
            " The best solution found:\n",
            " [0.1569415  1.13812634]\n",
            "\n",
            " Objective function:\n",
            " 0.28786118472263345\n"
          ]
        },
        {
          "output_type": "display_data",
          "data": {
            "text/plain": [
              "<Figure size 432x288 with 1 Axes>"
            ],
            "image/png": "[encoded data removed]"
          },
          "metadata": {
            "image/png": {
              "width": 398,
              "height": 277
            },
            "needs_background": "light"
          }
        }
      ],
      "source": [
        "ga_bound=np.array([[0,1],[0,2]])\n",
        "\n",
        "model=ga(function=objective,dimension=2,variable_type='real',variable_boundaries=ga_bound)\n",
        "\n",
        "model.run()"
      ]
    },
    {
      "cell_type": "code",
      "execution_count": 23,
      "metadata": {
        "id": "Z3vQmUuhgDLt"
      },
      "outputs": [],
      "source": [
        "## this is for simulated annealing \n",
        "from scipy.optimize import dual_annealing"
      ]
    },
    {
      "cell_type": "code",
      "execution_count": 25,
      "metadata": {
        "id": "yJEQauhEgDyZ"
      },
      "outputs": [],
      "source": [
        "#setting boundaries for dual annealing\n",
        "lb = [0.0001,0.0001]\n",
        "ub = [1,2]\n",
        "ret = dual_annealing(objective, bounds=list(zip(lb, ub)),maxiter=10000,maxfun=10000)\n"
      ]
    },
    {
      "cell_type": "code",
      "execution_count": 26,
      "metadata": {
        "colab": {
          "base_uri": "https://localhost:8080/"
        },
        "id": "p9537E_ggcPv",
        "outputId": "214b3be9-d074-41ed-e237-65abbdaa2a66"
      },
      "outputs": [
        {
          "output_type": "execute_result",
          "data": {
            "text/plain": [
              "array([0.14907387, 1.70834864])"
            ]
          },
          "metadata": {},
          "execution_count": 26
        }
      ],
      "source": [
        "ret.x #gives epsilon and C val"
      ]
    },
    {
      "cell_type": "code",
      "execution_count": 27,
      "metadata": {
        "colab": {
          "base_uri": "https://localhost:8080/"
        },
        "id": "FV8FZgV5goBH",
        "outputId": "f392d3a0-2cc7-4deb-fae0-4daa2d98fb67"
      },
      "outputs": [
        {
          "output_type": "execute_result",
          "data": {
            "text/plain": [
              "     fun: 0.28784371525300906\n",
              " message: ['Maximum number of function call reached during dual annealing']\n",
              "    nfev: 10062\n",
              "    nhev: 0\n",
              "     nit: 1851\n",
              "    njev: 884\n",
              "  status: 0\n",
              " success: False\n",
              "       x: array([0.14907387, 1.70834864])"
            ]
          },
          "metadata": {},
          "execution_count": 27
        }
      ],
      "source": [
        "ret "
      ]
    },
    {
      "cell_type": "markdown",
      "source": [
        "The best cost value for Support Vector Regression from using the objective functions for Particle Swarm Optimization, Genetic Algorithm, and Simulated Annealing is 0.29. The best Epsilon value is 0.15 and the best C value is 1.7. "
      ],
      "metadata": {
        "id": "vhctS999CBe7"
      }
    },
    {
      "cell_type": "code",
      "source": [
        ""
      ],
      "metadata": {
        "id": "aLU2JSQVNs1k"
      },
      "execution_count": null,
      "outputs": []
    }
  ],
  "metadata": {
    "colab": {
      "collapsed_sections": [],
      "name": "Sophia_Chen_Project3.ipynb",
      "provenance": [],
      "mount_file_id": "1wA-i8cUaTuZKUgPWz3l9Lk1U9j1LrlRR",
      "authorship_tag": "ABX9TyPlEUvdH3tHof9u6pDszbEo",
      "include_colab_link": true
    },
    "kernelspec": {
      "display_name": "Python 3",
      "name": "python3"
    },
    "language_info": {
      "name": "python"
    }
  },
  "nbformat": 4,
  "nbformat_minor": 0
}